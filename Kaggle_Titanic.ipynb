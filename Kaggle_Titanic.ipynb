{
  "nbformat": 4,
  "nbformat_minor": 0,
  "metadata": {
    "colab": {
      "provenance": []
    },
    "kernelspec": {
      "name": "python3",
      "display_name": "Python 3"
    },
    "language_info": {
      "name": "python"
    }
  },
  "cells": [
    {
      "cell_type": "markdown",
      "source": [
        "# Intro\n",
        "While there was some element of luck involved in surviving, it seems some groups of people were more likely to survive than others.\n",
        "\n",
        "In this challenge, we ask you to build a predictive model that answers the question: “what sorts of people were more likely to survive?” using passenger data (ie name, age, gender, socio-economic class, etc)."
      ],
      "metadata": {
        "id": "yXXuvyFQBw_G"
      }
    },
    {
      "cell_type": "markdown",
      "source": [
        "# Load package"
      ],
      "metadata": {
        "id": "zsV0T9tNAEMn"
      }
    },
    {
      "cell_type": "code",
      "execution_count": 1,
      "metadata": {
        "id": "Ml-PqtWW_ejd"
      },
      "outputs": [],
      "source": [
        "import pandas as pd\n",
        "import numpy as np\n",
        "import matplotlib.pyplot as plt\n",
        "import seaborn as sns\n",
        "from sklearn.model_selection import train_test_split"
      ]
    },
    {
      "cell_type": "markdown",
      "source": [
        "# Read Files"
      ],
      "metadata": {
        "id": "OZhMMPPlA_hG"
      }
    },
    {
      "cell_type": "code",
      "source": [
        "train_dataset = pd.read_csv(\"/content/drive/MyDrive/kaggle/train.csv\")\n",
        "test_dataset = pd.read_csv(\"/content/drive/MyDrive/kaggle/test.csv\")\n",
        "print(train_dataset.info())\n",
        "print(train_dataset.head())\n",
        "print(test_dataset.info())\n",
        "print(test_dataset.head())"
      ],
      "metadata": {
        "id": "yWmI8-3Q_iwP",
        "colab": {
          "base_uri": "https://localhost:8080/"
        },
        "outputId": "b0d91c45-470e-40b8-ce46-86e2c79cbc0c"
      },
      "execution_count": 2,
      "outputs": [
        {
          "output_type": "stream",
          "name": "stdout",
          "text": [
            "<class 'pandas.core.frame.DataFrame'>\n",
            "RangeIndex: 891 entries, 0 to 890\n",
            "Data columns (total 12 columns):\n",
            " #   Column       Non-Null Count  Dtype  \n",
            "---  ------       --------------  -----  \n",
            " 0   PassengerId  891 non-null    int64  \n",
            " 1   Survived     891 non-null    int64  \n",
            " 2   Pclass       891 non-null    int64  \n",
            " 3   Name         891 non-null    object \n",
            " 4   Sex          891 non-null    object \n",
            " 5   Age          714 non-null    float64\n",
            " 6   SibSp        891 non-null    int64  \n",
            " 7   Parch        891 non-null    int64  \n",
            " 8   Ticket       891 non-null    object \n",
            " 9   Fare         891 non-null    float64\n",
            " 10  Cabin        204 non-null    object \n",
            " 11  Embarked     889 non-null    object \n",
            "dtypes: float64(2), int64(5), object(5)\n",
            "memory usage: 83.7+ KB\n",
            "None\n",
            "   PassengerId  Survived  Pclass  \\\n",
            "0            1         0       3   \n",
            "1            2         1       1   \n",
            "2            3         1       3   \n",
            "3            4         1       1   \n",
            "4            5         0       3   \n",
            "\n",
            "                                                Name     Sex   Age  SibSp  \\\n",
            "0                            Braund, Mr. Owen Harris    male  22.0      1   \n",
            "1  Cumings, Mrs. John Bradley (Florence Briggs Th...  female  38.0      1   \n",
            "2                             Heikkinen, Miss. Laina  female  26.0      0   \n",
            "3       Futrelle, Mrs. Jacques Heath (Lily May Peel)  female  35.0      1   \n",
            "4                           Allen, Mr. William Henry    male  35.0      0   \n",
            "\n",
            "   Parch            Ticket     Fare Cabin Embarked  \n",
            "0      0         A/5 21171   7.2500   NaN        S  \n",
            "1      0          PC 17599  71.2833   C85        C  \n",
            "2      0  STON/O2. 3101282   7.9250   NaN        S  \n",
            "3      0            113803  53.1000  C123        S  \n",
            "4      0            373450   8.0500   NaN        S  \n",
            "<class 'pandas.core.frame.DataFrame'>\n",
            "RangeIndex: 418 entries, 0 to 417\n",
            "Data columns (total 11 columns):\n",
            " #   Column       Non-Null Count  Dtype  \n",
            "---  ------       --------------  -----  \n",
            " 0   PassengerId  418 non-null    int64  \n",
            " 1   Pclass       418 non-null    int64  \n",
            " 2   Name         418 non-null    object \n",
            " 3   Sex          418 non-null    object \n",
            " 4   Age          332 non-null    float64\n",
            " 5   SibSp        418 non-null    int64  \n",
            " 6   Parch        418 non-null    int64  \n",
            " 7   Ticket       418 non-null    object \n",
            " 8   Fare         417 non-null    float64\n",
            " 9   Cabin        91 non-null     object \n",
            " 10  Embarked     418 non-null    object \n",
            "dtypes: float64(2), int64(4), object(5)\n",
            "memory usage: 36.0+ KB\n",
            "None\n",
            "   PassengerId  Pclass                                          Name     Sex  \\\n",
            "0          892       3                              Kelly, Mr. James    male   \n",
            "1          893       3              Wilkes, Mrs. James (Ellen Needs)  female   \n",
            "2          894       2                     Myles, Mr. Thomas Francis    male   \n",
            "3          895       3                              Wirz, Mr. Albert    male   \n",
            "4          896       3  Hirvonen, Mrs. Alexander (Helga E Lindqvist)  female   \n",
            "\n",
            "    Age  SibSp  Parch   Ticket     Fare Cabin Embarked  \n",
            "0  34.5      0      0   330911   7.8292   NaN        Q  \n",
            "1  47.0      1      0   363272   7.0000   NaN        S  \n",
            "2  62.0      0      0   240276   9.6875   NaN        Q  \n",
            "3  27.0      0      0   315154   8.6625   NaN        S  \n",
            "4  22.0      1      1  3101298  12.2875   NaN        S  \n"
          ]
        }
      ]
    },
    {
      "cell_type": "markdown",
      "source": [
        "# Check Survived\n",
        "It seems that 39% of passenger survived. We need to dig-in others data column to find out the relationshipe between survival."
      ],
      "metadata": {
        "id": "eo_j_F9m6jSX"
      }
    },
    {
      "cell_type": "code",
      "source": [
        "fig, axes = plt.subplots(1, 2)\n",
        "train_dataset[\"Survived\"].value_counts().plot.pie(ax=axes[0], autopct='%1.1f%%')\n",
        "axes[0].set_title(\"The percetage of Survival\")\n",
        "sns.countplot(data = train_dataset, x=\"Survived\", ax = axes[1], hue=\"Survived\")\n",
        "axes[0].set_title(\"The number of Survival\")\n",
        "plt.show()"
      ],
      "metadata": {
        "colab": {
          "base_uri": "https://localhost:8080/",
          "height": 449
        },
        "id": "4VQEPKKN6oeQ",
        "outputId": "335a0d47-70b8-42eb-b148-431faa6dc833"
      },
      "execution_count": 3,
      "outputs": [
        {
          "output_type": "display_data",
          "data": {
            "text/plain": [
              "<Figure size 640x480 with 2 Axes>"
            ],
            "image/png": "[encoded data removed]"
          },
          "metadata": {}
        }
      ]
    },
    {
      "cell_type": "markdown",
      "source": [
        "# Data Cleaning and Encoding\n",
        "### Categorical\n",
        "- Ticket\n",
        "- Cabin\n",
        "- Embarked\n",
        "- Name\n",
        "\n",
        "### Numerical\n",
        "- PassengerId\n",
        "- Survived\n",
        "- Pclass\n",
        "- Age\n",
        "- SibSp\n",
        "- Parch\n",
        "- Fare\n"
      ],
      "metadata": {
        "id": "i3ona_LuCHYz"
      }
    },
    {
      "cell_type": "code",
      "source": [
        "print(\"===== Train =====\")\n",
        "print(train_dataset.isna().sum())\n",
        "print(\"===== Test =====\")\n",
        "print(test_dataset.isna().sum())"
      ],
      "metadata": {
        "colab": {
          "base_uri": "https://localhost:8080/"
        },
        "id": "rz3LL945MUcc",
        "outputId": "24c51c53-2039-45a4-d18f-174d47491aab"
      },
      "execution_count": 4,
      "outputs": [
        {
          "output_type": "stream",
          "name": "stdout",
          "text": [
            "===== Train =====\n",
            "PassengerId      0\n",
            "Survived         0\n",
            "Pclass           0\n",
            "Name             0\n",
            "Sex              0\n",
            "Age            177\n",
            "SibSp            0\n",
            "Parch            0\n",
            "Ticket           0\n",
            "Fare             0\n",
            "Cabin          687\n",
            "Embarked         2\n",
            "dtype: int64\n",
            "===== Test =====\n",
            "PassengerId      0\n",
            "Pclass           0\n",
            "Name             0\n",
            "Sex              0\n",
            "Age             86\n",
            "SibSp            0\n",
            "Parch            0\n",
            "Ticket           0\n",
            "Fare             1\n",
            "Cabin          327\n",
            "Embarked         0\n",
            "dtype: int64\n"
          ]
        }
      ]
    },
    {
      "cell_type": "markdown",
      "source": [
        "## Categorical Data Featuring"
      ],
      "metadata": {
        "id": "KkkKYVA4_Zok"
      }
    },
    {
      "cell_type": "markdown",
      "source": [
        "#### Sex - Categorical\n",
        "The original data shows male / female. In here, we have to do data encoding tenical to transform into 1 and 0. However, we found that nearly 75% of female survived on the ship and  18% of male save life. Clearly, we know the sex column stands an important feature for our model training."
      ],
      "metadata": {
        "id": "M33GaxaV_sfB"
      }
    },
    {
      "cell_type": "code",
      "source": [
        "fig, axes = plt.subplots(1, 2)\n",
        "train_dataset[[\"Survived\", \"Sex\"]].groupby(\"Sex\").mean().plot.bar(ax=axes[0])\n",
        "sns.countplot(x=\"Survived\", data=train_dataset, hue=\"Sex\").set_title(\"Survived with sex\")\n",
        "plt.show()\n",
        "# label encoding for sex data\n",
        "# train\n",
        "train_dataset[\"Sex\"] = train_dataset[\"Sex\"].astype(\"category\")\n",
        "train_sex_code = train_dataset[\"Sex\"].cat.codes\n",
        "train_sex_category = train_dataset[\"Sex\"]\n",
        "\n",
        "# test\n",
        "test_dataset[\"Sex\"] = test_dataset[\"Sex\"].astype(\"category\") # test\n",
        "test_sex_code = test_dataset[\"Sex\"].cat.codes\n",
        "test_sex_category = test_dataset[\"Sex\"]\n",
        "\n",
        "train_dataset[\"Sex\"] = train_sex_code\n",
        "test_dataset[\"Sex\"] = test_sex_code"
      ],
      "metadata": {
        "colab": {
          "base_uri": "https://localhost:8080/",
          "height": 506
        },
        "id": "BRPQhnqb_rmt",
        "outputId": "016272ac-15ad-409d-ab94-36f35afa8750"
      },
      "execution_count": 5,
      "outputs": [
        {
          "output_type": "display_data",
          "data": {
            "text/plain": [
              "<Figure size 640x480 with 2 Axes>"
            ],
            "image/png": "[encoded data removed]"
          },
          "metadata": {}
        }
      ]
    },
    {
      "cell_type": "markdown",
      "source": [
        "####Ticket - Categorical\n",
        "For observation, ticket data seems unvaluable. We tend to dorp this column."
      ],
      "metadata": {
        "id": "TIlgd8q5IVRX"
      }
    },
    {
      "cell_type": "code",
      "source": [
        "train_dataset = train_dataset.drop([\"Ticket\"], axis = 1)\n",
        "test_dataset = test_dataset.drop([\"Ticket\"], axis = 1)"
      ],
      "metadata": {
        "id": "zkjYxAXXIYLU"
      },
      "execution_count": 6,
      "outputs": []
    },
    {
      "cell_type": "markdown",
      "source": [
        "#### Cabin - Categorical\n",
        "This missing value of cabin is nearly 77% in train dataset and 78% in test dataset. It could be considered to drop off the variable.\n"
      ],
      "metadata": {
        "id": "wecoc6NMUQhy"
      }
    },
    {
      "cell_type": "code",
      "source": [
        "train_cabin_missing_percentage = train_dataset[\"Cabin\"].isna().sum() / len(train_dataset)\n",
        "test_cabin_missing_percentage = test_dataset[\"Cabin\"].isna().sum() / len(test_dataset)\n",
        "print(\"The percentage of Cabin data in train dataset: {}\".format(train_cabin_missing_percentage))\n",
        "print(\"The percentage of Cabin data in test dataset: {}\".format(test_cabin_missing_percentage))\n",
        "train_dataset = train_dataset.drop([\"Cabin\"], axis = 1)\n",
        "test_dataset = test_dataset.drop([\"Cabin\"], axis = 1)"
      ],
      "metadata": {
        "id": "1qNPGdN9UYZS",
        "colab": {
          "base_uri": "https://localhost:8080/"
        },
        "outputId": "6e089890-4b66-45d2-cc70-4584cf947756"
      },
      "execution_count": 7,
      "outputs": [
        {
          "output_type": "stream",
          "name": "stdout",
          "text": [
            "The percentage of Cabin data in train dataset: 0.7710437710437711\n",
            "The percentage of Cabin data in test dataset: 0.7822966507177034\n"
          ]
        }
      ]
    },
    {
      "cell_type": "markdown",
      "source": [
        "### Embarked - Categorical\n",
        "Replace missing value via S. Also, each port shows differenct percentage of survived. It seems that it has a relationship with survived data, and we adopt encoding technique in embarked data."
      ],
      "metadata": {
        "id": "V-gPm-yiD9as"
      }
    },
    {
      "cell_type": "code",
      "source": [
        "train_embarked_missing = train_dataset[\"Embarked\"].isna().sum()\n",
        "test_embarked_missing = test_dataset[\"Embarked\"].isna().sum()\n",
        "print(\"The percentage of Embarked data in train dataset: {}\".format(train_embarked_missing))\n",
        "print(\"The percentage of Embarked data in test dataset: {}\".format(test_embarked_missing))\n",
        "\n",
        "train_dataset[\"Embarked\"].value_counts()\n",
        "train_dataset[\"Embarked\"] = train_dataset[\"Embarked\"].fillna(\"S\")"
      ],
      "metadata": {
        "id": "It-TeIhAUnlN",
        "colab": {
          "base_uri": "https://localhost:8080/"
        },
        "outputId": "69d1f348-0d7b-459e-c52f-9cd347814676"
      },
      "execution_count": 12,
      "outputs": [
        {
          "output_type": "stream",
          "name": "stdout",
          "text": [
            "The percentage of Embarked data in train dataset: 2\n",
            "The percentage of Embarked data in test dataset: 0\n"
          ]
        }
      ]
    },
    {
      "cell_type": "code",
      "source": [
        "fig, axes = plt.subplots(1, 2)\n",
        "train_dataset[[\"Survived\", \"Embarked\"]].groupby(\"Embarked\")[\"Embarked\"].count().plot.pie(ax=axes[0], autopct='%1.1f%%')\n",
        "axes[0].set_title(\"The percetage of Survival\")\n",
        "axes[1] = sns.countplot(x=\"Survived\", data=train_dataset, hue=\"Embarked\").set_title(\"Survived with Embarked\")\n",
        "plt.show()\n",
        "\n",
        "# label encoding\n",
        "train_dataset[\"Embarked\"] = train_dataset[\"Embarked\"].astype(\"category\")\n",
        "train_Embarked_code = train_dataset[\"Embarked\"].cat.codes\n",
        "train_Embarked_category = train_dataset[\"Embarked\"]\n",
        "\n",
        "# test\n",
        "test_dataset[\"Embarked\"] = test_dataset[\"Embarked\"].astype(\"category\")\n",
        "test_Embarked_code = test_dataset[\"Embarked\"].cat.codes\n",
        "test_Embarked_category = test_dataset[\"Embarked\"]\n",
        "\n",
        "train_dataset[\"Embarked\"] = train_Embarked_code\n",
        "test_dataset[\"Embarked\"] = test_Embarked_code"
      ],
      "metadata": {
        "colab": {
          "base_uri": "https://localhost:8080/",
          "height": 472
        },
        "id": "I7OteHcMyMEY",
        "outputId": "f749f2fc-c4c6-4ba7-eecc-7a17abbde35d"
      },
      "execution_count": 26,
      "outputs": [
        {
          "output_type": "display_data",
          "data": {
            "text/plain": [
              "<Figure size 640x480 with 2 Axes>"
            ],
            "image/png": "[encoded data removed]"
          },
          "metadata": {}
        }
      ]
    },
    {
      "cell_type": "markdown",
      "source": [
        "#### Name - Categorical\n",
        "At this point of view, we don't need Name column because it's hard to convert into any categorical data, so we drop the column."
      ],
      "metadata": {
        "id": "fxYiv22Cmf9C"
      }
    },
    {
      "cell_type": "code",
      "source": [
        "train_dataset = train_dataset.drop([\"Name\"], axis = 1)\n",
        "test_dataset = test_dataset.drop([\"Name\"], axis = 1)"
      ],
      "metadata": {
        "id": "HToy7jEam3lR"
      },
      "execution_count": 27,
      "outputs": []
    },
    {
      "cell_type": "markdown",
      "source": [
        "## Numerical Data Featuring"
      ],
      "metadata": {
        "id": "DOmolbv7mTeI"
      }
    },
    {
      "cell_type": "markdown",
      "source": [
        "####Age Column"
      ],
      "metadata": {
        "id": "Y7auTfrYDgqq"
      }
    },
    {
      "cell_type": "code",
      "source": [
        "# Replace Nan via Mean Age\n",
        "train_mean_age = train_dataset[\"Age\"].mean()\n",
        "test_mean_age = test_dataset[\"Age\"].mean()\n",
        "train_dataset[\"Age\"] = train_dataset[\"Age\"].fillna(train_mean_age)\n",
        "test_dataset[\"Age\"] = test_dataset[\"Age\"].fillna(test_mean_age)\n",
        "print(\"[trian]After replace: {}\".format(train_dataset[\"Age\"].isna().sum()))\n",
        "print(\"[test]After replace: {}\".format(test_dataset[\"Age\"].isna().sum()))\n",
        "\n",
        "age_bins = [0, 2, 40, 60, 100]\n",
        "train_age_cut = pd.cut(train_dataset[\"Age\"], age_bins, labels=[\"baby\", \"young_adults\", \"middle_age_adult\", \"elderly\"])\n",
        "test_age_cut = pd.cut(train_dataset[\"Age\"], age_bins, labels=[\"baby\", \"young_adults\", \"middle_age_adult\", \"elderly\"])\n",
        "train_dataset[\"Age_group\"] = train_age_cut\n",
        "test_dataset[\"Age_group\"] = test_age_cut\n",
        "\n",
        "# label encoding\n",
        "train_age_code = train_dataset[\"Age_group\"].cat.codes\n",
        "train_age_category = train_dataset[\"Age_group\"]\n",
        "print(\"===== Train =====\")\n",
        "print(dict(zip(train_age_code, train_age_category)))\n",
        "\n",
        "# test\n",
        "test_age_code = test_dataset[\"Age_group\"].cat.codes\n",
        "test_age_category = test_dataset[\"Age_group\"]\n",
        "print(\"===== Test =====\")\n",
        "print(dict(zip(test_age_code, test_age_category)))\n",
        "\n",
        "train_dataset[\"Age_group\"] = train_age_code\n",
        "test_dataset[\"Age_group\"] = test_age_code\n",
        "\n",
        "print(train_dataset.head())\n",
        "print(test_dataset.head())\n",
        "\n",
        "\n",
        "# remove Age column\n",
        "train_dataset = train_dataset.drop([\"Age\"], axis = 1)\n",
        "test_dataset = test_dataset.drop([\"Age\"], axis = 1)"
      ],
      "metadata": {
        "id": "_B8r6EZfEWob"
      },
      "execution_count": null,
      "outputs": []
    },
    {
      "cell_type": "markdown",
      "source": [
        "## Fare Column"
      ],
      "metadata": {
        "id": "Vd-bqf0ZIChA"
      }
    },
    {
      "cell_type": "code",
      "source": [
        "# check outlier\n",
        "sns.boxplot(x = \"Survived\", y = \"Fare\", data = train_dataset)\n",
        "plt.show()\n",
        "\n",
        "# remove outlier\n",
        "train_dataset[\"Fare\"].replace({512.3292: train_dataset[\"Fare\"].mean()}, inplace=True)\n",
        "test_dataset[\"Fare\"].replace({512.3292: test_dataset[\"Fare\"].mean()}, inplace=True)\n",
        "test_dataset[\"Fare\"] = test_dataset[\"Fare\"].fillna(test_dataset[\"Fare\"].mean())"
      ],
      "metadata": {
        "id": "TTpBL6r_IItm"
      },
      "execution_count": null,
      "outputs": []
    },
    {
      "cell_type": "code",
      "source": [
        "train_dataset[\"Fare\"].describe()\n",
        "# check outlier\n",
        "sns.scatterplot(x = \"Pclass\", y = \"Fare\", data = train_dataset, hue=\"Pclass\")\n",
        "plt.show()"
      ],
      "metadata": {
        "id": "SudtECHrTVox"
      },
      "execution_count": null,
      "outputs": []
    },
    {
      "cell_type": "code",
      "source": [
        "pclass_1 = train_dataset[train_dataset[\"Pclass\"] == 1]\n",
        "sns.boxplot(x=\"Fare\", data = pclass_1)\n",
        "plt.show()\n",
        "\n",
        "# remove outliter\n",
        "Q1 = pclass_1['Fare'].quantile(0.25)\n",
        "Q3 = pclass_1['Fare'].quantile(0.75)\n",
        "IQR = Q3 - Q1\n",
        "\n",
        "# identify outliers\n",
        "threshold = 1.5\n",
        "outliers = pclass_1[(pclass_1['Fare'] < Q1 - threshold * IQR) | (pclass_1['Fare'] > Q3 + threshold * IQR)]\n",
        "train_dataset.drop(outliers.index)"
      ],
      "metadata": {
        "id": "S4M84gL7U6gF"
      },
      "execution_count": null,
      "outputs": []
    },
    {
      "cell_type": "markdown",
      "source": [
        "### Pclass Data"
      ],
      "metadata": {
        "id": "pc2qvv1nJ7et"
      }
    },
    {
      "cell_type": "code",
      "source": [
        "sns.countplot(x=\"Survived\", data=train_dataset, hue=\"Pclass\").set_title(\"Survived with Pclass\")\n",
        "plt.show()"
      ],
      "metadata": {
        "id": "Dd2z67ZKzCz0"
      },
      "execution_count": null,
      "outputs": []
    },
    {
      "cell_type": "markdown",
      "source": [
        "## Age Data Become Categorical Data"
      ],
      "metadata": {
        "id": "w7DRlgAGXsaF"
      }
    },
    {
      "cell_type": "code",
      "source": [
        "age_bins = [0, 2, 40, 60, 100]\n",
        "train_age_cut = pd.cut(train_dataset[\"Age\"], age_bins, labels=[\"baby\", \"young_adults\", \"middle_age_adult\", \"elderly\"])\n",
        "test_age_cut = pd.cut(train_dataset[\"Age\"], age_bins, labels=[\"baby\", \"young_adults\", \"middle_age_adult\", \"elderly\"])\n",
        "train_dataset[\"Age_group\"] = train_age_cut\n",
        "test_dataset[\"Age_group\"] = test_age_cut\n",
        "\n",
        "# label encoding\n",
        "train_age_code = train_dataset[\"Age_group\"].cat.codes\n",
        "train_age_category = train_dataset[\"Age_group\"]\n",
        "print(\"===== Train =====\")\n",
        "print(dict(zip(train_age_code, train_age_category)))\n",
        "\n",
        "# test\n",
        "test_age_code = test_dataset[\"Age_group\"].cat.codes\n",
        "test_age_category = test_dataset[\"Age_group\"]\n",
        "print(\"===== Test =====\")\n",
        "print(dict(zip(test_age_code, test_age_category)))\n",
        "\n",
        "train_dataset[\"Age_group\"] = train_age_code\n",
        "test_dataset[\"Age_group\"] = test_age_code\n",
        "\n",
        "print(train_dataset.head())\n",
        "print(test_dataset.head())\n",
        "\n",
        "\n",
        "# remove Age column\n",
        "train_dataset = train_dataset.drop([\"Age\"], axis = 1)\n",
        "test_dataset = test_dataset.drop([\"Age\"], axis = 1)"
      ],
      "metadata": {
        "id": "Ks8QU0OnXx93"
      },
      "execution_count": null,
      "outputs": []
    },
    {
      "cell_type": "code",
      "source": [
        "plt.figure(figsize=(9, 9))\n",
        "sns.heatmap(data = train_dataset.corr(), annot=True)\n",
        "plt.show()"
      ],
      "metadata": {
        "id": "BOAUwl-FxsbB"
      },
      "execution_count": null,
      "outputs": []
    },
    {
      "cell_type": "markdown",
      "source": [
        "# Build Model"
      ],
      "metadata": {
        "id": "SYw-4mXnKA4h"
      }
    },
    {
      "cell_type": "code",
      "source": [
        "X = train_dataset.drop([\"Survived\", \"Name\", \"Ticket\", \"PassengerId\",], axis = 1)\n",
        "y = train_dataset[\"Survived\"]\n",
        "X_train, X_test, y_train, y_test = train_test_split(X, y, test_size=0.2, random_state=42)"
      ],
      "metadata": {
        "id": "mIqRYzr0KDG0"
      },
      "execution_count": null,
      "outputs": []
    },
    {
      "cell_type": "markdown",
      "source": [
        "### Build pipeline"
      ],
      "metadata": {
        "id": "wOiCJKViLmQj"
      }
    },
    {
      "cell_type": "code",
      "source": [
        "def model_func(ML_model):\n",
        "  model = ML_model.fit(X_train, y_train)\n",
        "  y_pred = model.predict(X_test)\n",
        "  train_accur = model.score(X_train, y_train)\n",
        "  test_accur = model.score(X_test, y_test)\n",
        "  return train_accur, test_accur"
      ],
      "metadata": {
        "id": "Ky0iWbyELo_w"
      },
      "execution_count": null,
      "outputs": []
    },
    {
      "cell_type": "code",
      "source": [
        "from sklearn.neighbors import KNeighborsClassifier\n",
        "from sklearn.ensemble import RandomForestClassifier\n",
        "from sklearn.metrics import confusion_matrix\n",
        "neighbors = np.arange(1, 25)\n",
        "train_accuracies = {}\n",
        "test_accuracies = {}\n",
        "\n",
        "for neighbor in neighbors:\n",
        "  knn = KNeighborsClassifier(n_neighbors = neighbor)\n",
        "  train_accur, test_accur = model_func(knn)\n",
        "  train_accuracies[neighbor] = train_accur\n",
        "  test_accuracies[neighbor] = test_accur\n",
        "\n",
        "\n",
        "# Add a title\n",
        "plt.title(\"KNN: Varying Number of Neighbors\")\n",
        "\n",
        "# Plot training accuracies\n",
        "plt.plot(neighbors, train_accuracies.values(), label=\"Training Accuracy\")\n",
        "\n",
        "# Plot test accuracies\n",
        "plt.plot(neighbors, test_accuracies.values(), label=\"Testing Accuracy\")\n",
        "\n",
        "plt.legend()\n",
        "plt.xlabel(\"Number of Neighbors\")\n",
        "plt.ylabel(\"Accuracy\")\n",
        "\n",
        "# Display the plot\n",
        "plt.show()"
      ],
      "metadata": {
        "id": "QakYu53uxScF"
      },
      "execution_count": null,
      "outputs": []
    }
  ]
}